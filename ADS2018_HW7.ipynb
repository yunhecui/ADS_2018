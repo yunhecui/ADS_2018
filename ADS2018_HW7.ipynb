{
 "cells": [
  {
   "cell_type": "markdown",
   "metadata": {},
   "source": [
    "# ADS Homework 7\n",
    "\n",
    "#### Please submit this assignment to NYU Classes 'Assignments' section by labeling the notebook as **'FULL_NAME - ADS_HW7.ipynb'**.\n",
    "---\n",
    "This exercise is on Stock price prediction. We will be using Amazon's 10 year stock history to train LSTM network to get predicted stock price for next day, given previous 'n' values which is defined by 'window_size'. There are helper functions which will create the dataset for you, get the predictions from trained network and also plot the predictions. Most important part of this assignment deals with creating the model architecture correctly. You should experiment by adding more layers and playing around with the hyper-parameters in order to improve the accuracy. Extra-credit will be given to novel ideas.\n",
    "\n",
    "You may reach out to the TAs in case you're having some troubles or getting un-expected errors. Feel free to reach out to Professor Savage as well via email or during office hours."
   ]
  },
  {
   "cell_type": "code",
   "execution_count": 1,
   "metadata": {
    "scrolled": false
   },
   "outputs": [
    {
     "name": "stderr",
     "output_type": "stream",
     "text": [
      "/usr/local/Anaconda3-5.0.0-Linux-x86_64/envs/ADS/lib/python3.5/site-packages/matplotlib/cbook.py:136: MatplotlibDeprecationWarning: The finance module has been deprecated in mpl 2.0 and will be removed in mpl 2.2. Please use the module mpl_finance instead.\n",
      "  warnings.warn(message, mplDeprecation, stacklevel=1)\n",
      "Using TensorFlow backend.\n"
     ]
    }
   ],
   "source": [
    "import numpy as np\n",
    "import pandas as pd\n",
    "import tensorflow as tf\n",
    "import matplotlib.dates as mdates\n",
    "from tensorflow import keras\n",
    "import matplotlib.pyplot as plt\n",
    "from sklearn.preprocessing import MinMaxScaler\n",
    "from  matplotlib.finance import *\n",
    "%matplotlib inline\n",
    "\n",
    "from subprocess import check_output\n",
    "from keras.layers.core import Dense, Activation, Dropout\n",
    "from keras.layers.recurrent import LSTM\n",
    "from keras.models import Sequential\n",
    "from sklearn.model_selection import train_test_split\n",
    "import time #helper libraries\n",
    "from numpy import newaxis"
   ]
  },
  {
   "cell_type": "markdown",
   "metadata": {},
   "source": [
    "### Q.1 Read the CSV file, change 'date' column to datetime format and plot the stock price history (10 pts)"
   ]
  },
  {
   "cell_type": "code",
   "execution_count": 2,
   "metadata": {
    "scrolled": false
   },
   "outputs": [],
   "source": [
    "### YOUR CODE HERE ###\n",
    "amazon = pd.read_csv(\"Amazon_10yr_history.csv\")\n",
    "amazon['date'] = pd.to_datetime(amazon['date'])"
   ]
  },
  {
   "cell_type": "code",
   "execution_count": 3,
   "metadata": {
    "scrolled": false
   },
   "outputs": [
    {
     "data": {
      "text/html": [
       "<div>\n",
       "<style scoped>\n",
       "    .dataframe tbody tr th:only-of-type {\n",
       "        vertical-align: middle;\n",
       "    }\n",
       "\n",
       "    .dataframe tbody tr th {\n",
       "        vertical-align: top;\n",
       "    }\n",
       "\n",
       "    .dataframe thead th {\n",
       "        text-align: right;\n",
       "    }\n",
       "</style>\n",
       "<table border=\"1\" class=\"dataframe\">\n",
       "  <thead>\n",
       "    <tr style=\"text-align: right;\">\n",
       "      <th></th>\n",
       "      <th>date</th>\n",
       "      <th>close</th>\n",
       "      <th>volume</th>\n",
       "      <th>open</th>\n",
       "      <th>high</th>\n",
       "      <th>low</th>\n",
       "    </tr>\n",
       "  </thead>\n",
       "  <tbody>\n",
       "    <tr>\n",
       "      <th>0</th>\n",
       "      <td>2018-11-30</td>\n",
       "      <td>1690.17</td>\n",
       "      <td>5744168.0</td>\n",
       "      <td>1679.50</td>\n",
       "      <td>1696.00</td>\n",
       "      <td>1666.500</td>\n",
       "    </tr>\n",
       "    <tr>\n",
       "      <th>1</th>\n",
       "      <td>2018-11-29</td>\n",
       "      <td>1673.57</td>\n",
       "      <td>6600424.0</td>\n",
       "      <td>1674.99</td>\n",
       "      <td>1689.99</td>\n",
       "      <td>1652.331</td>\n",
       "    </tr>\n",
       "    <tr>\n",
       "      <th>2</th>\n",
       "      <td>2018-11-28</td>\n",
       "      <td>1677.75</td>\n",
       "      <td>8429894.0</td>\n",
       "      <td>1613.92</td>\n",
       "      <td>1681.45</td>\n",
       "      <td>1601.215</td>\n",
       "    </tr>\n",
       "    <tr>\n",
       "      <th>3</th>\n",
       "      <td>2018-11-27</td>\n",
       "      <td>1581.42</td>\n",
       "      <td>5758441.0</td>\n",
       "      <td>1575.99</td>\n",
       "      <td>1597.65</td>\n",
       "      <td>1558.010</td>\n",
       "    </tr>\n",
       "    <tr>\n",
       "      <th>4</th>\n",
       "      <td>2018-11-26</td>\n",
       "      <td>1581.33</td>\n",
       "      <td>6226531.0</td>\n",
       "      <td>1539.00</td>\n",
       "      <td>1584.81</td>\n",
       "      <td>1524.220</td>\n",
       "    </tr>\n",
       "  </tbody>\n",
       "</table>\n",
       "</div>"
      ],
      "text/plain": [
       "        date    close     volume     open     high       low\n",
       "0 2018-11-30  1690.17  5744168.0  1679.50  1696.00  1666.500\n",
       "1 2018-11-29  1673.57  6600424.0  1674.99  1689.99  1652.331\n",
       "2 2018-11-28  1677.75  8429894.0  1613.92  1681.45  1601.215\n",
       "3 2018-11-27  1581.42  5758441.0  1575.99  1597.65  1558.010\n",
       "4 2018-11-26  1581.33  6226531.0  1539.00  1584.81  1524.220"
      ]
     },
     "execution_count": 3,
     "metadata": {},
     "output_type": "execute_result"
    }
   ],
   "source": [
    "amazon.head()"
   ]
  },
  {
   "cell_type": "code",
   "execution_count": 4,
   "metadata": {
    "scrolled": false
   },
   "outputs": [
    {
     "data": {
      "text/plain": [
       "<matplotlib.axes._subplots.AxesSubplot at 0x7f0922fc8470>"
      ]
     },
     "execution_count": 4,
     "metadata": {},
     "output_type": "execute_result"
    },
    {
     "data": {
      "image/png": "[encoded data removed]",
      "text/plain": [
       "<matplotlib.figure.Figure at 0x7f0922ddecc0>"
      ]
     },
     "metadata": {
      "needs_background": "light"
     },
     "output_type": "display_data"
    }
   ],
   "source": [
    "amazon.plot(x=\"date\", y=\"open\")"
   ]
  },
  {
   "cell_type": "markdown",
   "metadata": {},
   "source": [
    "Figure 1. This is a time series plot that shows the open price for amazon stock value during 10 year period"
   ]
  },
  {
   "cell_type": "code",
   "execution_count": 5,
   "metadata": {
    "scrolled": false
   },
   "outputs": [
    {
     "data": {
      "image/png": "[encoded data removed]",
      "text/plain": [
       "<matplotlib.figure.Figure at 0x7f0922ddeb00>"
      ]
     },
     "metadata": {
      "needs_background": "light"
     },
     "output_type": "display_data"
    }
   ],
   "source": [
    "amazon[\"date2\"] = amazon[\"date\"].apply(mdates.date2num)\n",
    "tuples = [tuple(x) for x in amazon[['date2','open','high','low','close']].values]\n",
    "\n",
    "fig, ax = plt.subplots(figsize=(12,8))\n",
    "ax.xaxis_date()\n",
    "ax.xaxis.set_major_formatter(mdates.DateFormatter(\"%Y-%m-%d\"))\n",
    "plt.xticks(rotation=45)\n",
    "plt.xlabel(\"Date\")\n",
    "plt.ylabel(\"Price\")\n",
    "plt.title(\"Amazon stock value\")\n",
    "C1 = candlestick_ohlc(ax, tuples, width=.6, colorup='g', alpha =.4)\n"
   ]
  },
  {
   "cell_type": "markdown",
   "metadata": {},
   "source": [
    "Figure 2. This is a time series plot that shows the amazon stock value during a 10 year period"
   ]
  },
  {
   "cell_type": "code",
   "execution_count": 6,
   "metadata": {
    "scrolled": true
   },
   "outputs": [
    {
     "data": {
      "text/html": [
       "<div>\n",
       "<style scoped>\n",
       "    .dataframe tbody tr th:only-of-type {\n",
       "        vertical-align: middle;\n",
       "    }\n",
       "\n",
       "    .dataframe tbody tr th {\n",
       "        vertical-align: top;\n",
       "    }\n",
       "\n",
       "    .dataframe thead th {\n",
       "        text-align: right;\n",
       "    }\n",
       "</style>\n",
       "<table border=\"1\" class=\"dataframe\">\n",
       "  <thead>\n",
       "    <tr style=\"text-align: right;\">\n",
       "      <th></th>\n",
       "      <th>date</th>\n",
       "      <th>close</th>\n",
       "      <th>volume</th>\n",
       "      <th>open</th>\n",
       "      <th>high</th>\n",
       "      <th>low</th>\n",
       "      <th>date2</th>\n",
       "    </tr>\n",
       "  </thead>\n",
       "  <tbody>\n",
       "    <tr>\n",
       "      <th>0</th>\n",
       "      <td>2018-11-30</td>\n",
       "      <td>1690.17</td>\n",
       "      <td>5744168.0</td>\n",
       "      <td>1679.50</td>\n",
       "      <td>1696.00</td>\n",
       "      <td>1666.500</td>\n",
       "      <td>737028.0</td>\n",
       "    </tr>\n",
       "    <tr>\n",
       "      <th>1</th>\n",
       "      <td>2018-11-29</td>\n",
       "      <td>1673.57</td>\n",
       "      <td>6600424.0</td>\n",
       "      <td>1674.99</td>\n",
       "      <td>1689.99</td>\n",
       "      <td>1652.331</td>\n",
       "      <td>737027.0</td>\n",
       "    </tr>\n",
       "    <tr>\n",
       "      <th>2</th>\n",
       "      <td>2018-11-28</td>\n",
       "      <td>1677.75</td>\n",
       "      <td>8429894.0</td>\n",
       "      <td>1613.92</td>\n",
       "      <td>1681.45</td>\n",
       "      <td>1601.215</td>\n",
       "      <td>737026.0</td>\n",
       "    </tr>\n",
       "    <tr>\n",
       "      <th>3</th>\n",
       "      <td>2018-11-27</td>\n",
       "      <td>1581.42</td>\n",
       "      <td>5758441.0</td>\n",
       "      <td>1575.99</td>\n",
       "      <td>1597.65</td>\n",
       "      <td>1558.010</td>\n",
       "      <td>737025.0</td>\n",
       "    </tr>\n",
       "    <tr>\n",
       "      <th>4</th>\n",
       "      <td>2018-11-26</td>\n",
       "      <td>1581.33</td>\n",
       "      <td>6226531.0</td>\n",
       "      <td>1539.00</td>\n",
       "      <td>1584.81</td>\n",
       "      <td>1524.220</td>\n",
       "      <td>737024.0</td>\n",
       "    </tr>\n",
       "  </tbody>\n",
       "</table>\n",
       "</div>"
      ],
      "text/plain": [
       "        date    close     volume     open     high       low     date2\n",
       "0 2018-11-30  1690.17  5744168.0  1679.50  1696.00  1666.500  737028.0\n",
       "1 2018-11-29  1673.57  6600424.0  1674.99  1689.99  1652.331  737027.0\n",
       "2 2018-11-28  1677.75  8429894.0  1613.92  1681.45  1601.215  737026.0\n",
       "3 2018-11-27  1581.42  5758441.0  1575.99  1597.65  1558.010  737025.0\n",
       "4 2018-11-26  1581.33  6226531.0  1539.00  1584.81  1524.220  737024.0"
      ]
     },
     "execution_count": 6,
     "metadata": {},
     "output_type": "execute_result"
    }
   ],
   "source": [
    "amazon.head()"
   ]
  },
  {
   "cell_type": "markdown",
   "metadata": {},
   "source": [
    "### Q.2 Scale the data using MinMaxScaler (5 pts)"
   ]
  },
  {
   "cell_type": "code",
   "execution_count": 31,
   "metadata": {},
   "outputs": [
    {
     "name": "stderr",
     "output_type": "stream",
     "text": [
      "/usr/local/Anaconda3-5.0.0-Linux-x86_64/envs/ADS/lib/python3.5/site-packages/ipykernel_launcher.py:5: SettingWithCopyWarning: \n",
      "A value is trying to be set on a copy of a slice from a DataFrame.\n",
      "Try using .loc[row_indexer,col_indexer] = value instead\n",
      "\n",
      "See the caveats in the documentation: http://pandas.pydata.org/pandas-docs/stable/indexing.html#indexing-view-versus-copy\n",
      "  \"\"\"\n"
     ]
    }
   ],
   "source": [
    "scaler = MinMaxScaler(feature_range=(0, 1))\n",
    "amazon_ = amazon[['date','close','volume','open','high','low']]\n",
    "close = amazon[['close']]\n",
    "amazon_['close'] = scaler.fit_transform(close)"
   ]
  },
  {
   "cell_type": "code",
   "execution_count": 32,
   "metadata": {
    "scrolled": false
   },
   "outputs": [
    {
     "data": {
      "text/html": [
       "<div>\n",
       "<style scoped>\n",
       "    .dataframe tbody tr th:only-of-type {\n",
       "        vertical-align: middle;\n",
       "    }\n",
       "\n",
       "    .dataframe tbody tr th {\n",
       "        vertical-align: top;\n",
       "    }\n",
       "\n",
       "    .dataframe thead th {\n",
       "        text-align: right;\n",
       "    }\n",
       "</style>\n",
       "<table border=\"1\" class=\"dataframe\">\n",
       "  <thead>\n",
       "    <tr style=\"text-align: right;\">\n",
       "      <th></th>\n",
       "      <th>date</th>\n",
       "      <th>close</th>\n",
       "      <th>volume</th>\n",
       "      <th>open</th>\n",
       "      <th>high</th>\n",
       "      <th>low</th>\n",
       "    </tr>\n",
       "  </thead>\n",
       "  <tbody>\n",
       "    <tr>\n",
       "      <th>0</th>\n",
       "      <td>2018-11-30</td>\n",
       "      <td>0.825246</td>\n",
       "      <td>5744168.0</td>\n",
       "      <td>1679.50</td>\n",
       "      <td>1696.00</td>\n",
       "      <td>1666.500</td>\n",
       "    </tr>\n",
       "    <tr>\n",
       "      <th>1</th>\n",
       "      <td>2018-11-29</td>\n",
       "      <td>0.816942</td>\n",
       "      <td>6600424.0</td>\n",
       "      <td>1674.99</td>\n",
       "      <td>1689.99</td>\n",
       "      <td>1652.331</td>\n",
       "    </tr>\n",
       "    <tr>\n",
       "      <th>2</th>\n",
       "      <td>2018-11-28</td>\n",
       "      <td>0.819033</td>\n",
       "      <td>8429894.0</td>\n",
       "      <td>1613.92</td>\n",
       "      <td>1681.45</td>\n",
       "      <td>1601.215</td>\n",
       "    </tr>\n",
       "    <tr>\n",
       "      <th>3</th>\n",
       "      <td>2018-11-27</td>\n",
       "      <td>0.770845</td>\n",
       "      <td>5758441.0</td>\n",
       "      <td>1575.99</td>\n",
       "      <td>1597.65</td>\n",
       "      <td>1558.010</td>\n",
       "    </tr>\n",
       "    <tr>\n",
       "      <th>4</th>\n",
       "      <td>2018-11-26</td>\n",
       "      <td>0.770800</td>\n",
       "      <td>6226531.0</td>\n",
       "      <td>1539.00</td>\n",
       "      <td>1584.81</td>\n",
       "      <td>1524.220</td>\n",
       "    </tr>\n",
       "  </tbody>\n",
       "</table>\n",
       "</div>"
      ],
      "text/plain": [
       "        date     close     volume     open     high       low\n",
       "0 2018-11-30  0.825246  5744168.0  1679.50  1696.00  1666.500\n",
       "1 2018-11-29  0.816942  6600424.0  1674.99  1689.99  1652.331\n",
       "2 2018-11-28  0.819033  8429894.0  1613.92  1681.45  1601.215\n",
       "3 2018-11-27  0.770845  5758441.0  1575.99  1597.65  1558.010\n",
       "4 2018-11-26  0.770800  6226531.0  1539.00  1584.81  1524.220"
      ]
     },
     "execution_count": 32,
     "metadata": {},
     "output_type": "execute_result"
    }
   ],
   "source": [
    "amazon_.head()"
   ]
  },
  {
   "cell_type": "code",
   "execution_count": 33,
   "metadata": {
    "scrolled": false
   },
   "outputs": [
    {
     "name": "stderr",
     "output_type": "stream",
     "text": [
      "/usr/local/Anaconda3-5.0.0-Linux-x86_64/envs/ADS/lib/python3.5/site-packages/ipykernel_launcher.py:1: SettingWithCopyWarning: \n",
      "A value is trying to be set on a copy of a slice from a DataFrame.\n",
      "Try using .loc[row_indexer,col_indexer] = value instead\n",
      "\n",
      "See the caveats in the documentation: http://pandas.pydata.org/pandas-docs/stable/indexing.html#indexing-view-versus-copy\n",
      "  \"\"\"Entry point for launching an IPython kernel.\n"
     ]
    }
   ],
   "source": [
    "amazon_['date'] = pd.to_datetime(amazon_['date'])\n",
    "amazon_ = amazon_.sort_values(['date']).reset_index()\n"
   ]
  },
  {
   "cell_type": "code",
   "execution_count": 34,
   "metadata": {},
   "outputs": [],
   "source": [
    "amzn = amazon_[['date','close','volume','open','high','low']]"
   ]
  },
  {
   "cell_type": "code",
   "execution_count": 35,
   "metadata": {},
   "outputs": [
    {
     "data": {
      "text/html": [
       "<div>\n",
       "<style scoped>\n",
       "    .dataframe tbody tr th:only-of-type {\n",
       "        vertical-align: middle;\n",
       "    }\n",
       "\n",
       "    .dataframe tbody tr th {\n",
       "        vertical-align: top;\n",
       "    }\n",
       "\n",
       "    .dataframe thead th {\n",
       "        text-align: right;\n",
       "    }\n",
       "</style>\n",
       "<table border=\"1\" class=\"dataframe\">\n",
       "  <thead>\n",
       "    <tr style=\"text-align: right;\">\n",
       "      <th></th>\n",
       "      <th>date</th>\n",
       "      <th>close</th>\n",
       "      <th>volume</th>\n",
       "      <th>open</th>\n",
       "      <th>high</th>\n",
       "      <th>low</th>\n",
       "    </tr>\n",
       "  </thead>\n",
       "  <tbody>\n",
       "    <tr>\n",
       "      <th>0</th>\n",
       "      <td>2008-12-01</td>\n",
       "      <td>0.000000</td>\n",
       "      <td>11178700.0</td>\n",
       "      <td>42.00</td>\n",
       "      <td>43.26</td>\n",
       "      <td>40.38</td>\n",
       "    </tr>\n",
       "    <tr>\n",
       "      <th>1</th>\n",
       "      <td>2008-12-02</td>\n",
       "      <td>0.000360</td>\n",
       "      <td>8713657.0</td>\n",
       "      <td>41.39</td>\n",
       "      <td>41.71</td>\n",
       "      <td>38.82</td>\n",
       "    </tr>\n",
       "    <tr>\n",
       "      <th>2</th>\n",
       "      <td>2008-12-03</td>\n",
       "      <td>0.002371</td>\n",
       "      <td>15672860.0</td>\n",
       "      <td>40.16</td>\n",
       "      <td>45.88</td>\n",
       "      <td>40.05</td>\n",
       "    </tr>\n",
       "    <tr>\n",
       "      <th>3</th>\n",
       "      <td>2008-12-04</td>\n",
       "      <td>0.003427</td>\n",
       "      <td>19781350.0</td>\n",
       "      <td>45.94</td>\n",
       "      <td>50.50</td>\n",
       "      <td>45.75</td>\n",
       "    </tr>\n",
       "    <tr>\n",
       "      <th>4</th>\n",
       "      <td>2008-12-05</td>\n",
       "      <td>0.003897</td>\n",
       "      <td>14607480.0</td>\n",
       "      <td>45.89</td>\n",
       "      <td>48.49</td>\n",
       "      <td>43.30</td>\n",
       "    </tr>\n",
       "  </tbody>\n",
       "</table>\n",
       "</div>"
      ],
      "text/plain": [
       "        date     close      volume   open   high    low\n",
       "0 2008-12-01  0.000000  11178700.0  42.00  43.26  40.38\n",
       "1 2008-12-02  0.000360   8713657.0  41.39  41.71  38.82\n",
       "2 2008-12-03  0.002371  15672860.0  40.16  45.88  40.05\n",
       "3 2008-12-04  0.003427  19781350.0  45.94  50.50  45.75\n",
       "4 2008-12-05  0.003897  14607480.0  45.89  48.49  43.30"
      ]
     },
     "execution_count": 35,
     "metadata": {},
     "output_type": "execute_result"
    }
   ],
   "source": [
    "amzn.head()"
   ]
  },
  {
   "cell_type": "markdown",
   "metadata": {},
   "source": [
    "#### Creates dataset in correct format for RNNs"
   ]
  },
  {
   "cell_type": "code",
   "execution_count": 12,
   "metadata": {
    "scrolled": false
   },
   "outputs": [],
   "source": [
    "def create_dataset(dataset, window_size):\n",
    "    \"\"\"\n",
    "    Creates x and y data sets used for training the LSTM model in the format which is acceptable by Keras API\n",
    "    Parameters:\n",
    "        data : Stock price history (as numpy array)\n",
    "        window_size : Number of data points to be used to predict/forecast next data point\n",
    "    \n",
    "    Returns:\n",
    "        x : Feature inputs\n",
    "        y : Target labels\n",
    "    \"\"\"\n",
    "    data_X, data_Y = [], []\n",
    "    for i in range(len(dataset) - window_size - 1):\n",
    "        # Creating sets of data points (close price) to predict for next day\n",
    "        data_X.append(dataset[i:(i + window_size), 1]) ## 1 - 'close' price from dataframe\n",
    "        data_Y.append(dataset[i + window_size, 1])\n",
    "    # Converting list to numpy array\n",
    "    data_X = np.array(data_X)\n",
    "    data_Y = np.array(data_Y)\n",
    "    # Reshaping it according to LSTM input\n",
    "    x = np.reshape(data_X, (data_X.shape[0], 1, data_X.shape[1]))\n",
    "    y = np.reshape(data_Y, (data_Y.shape[0], 1,1))\n",
    "    return x, y\n",
    "\n",
    "window_size = 22\n",
    "x, y = create_dataset(amzn.values, window_size)"
   ]
  },
  {
   "cell_type": "code",
   "execution_count": 13,
   "metadata": {
    "scrolled": false
   },
   "outputs": [
    {
     "data": {
      "text/plain": [
       "array([[[0.0, 0.00036017288298383077, 0.0023711381463102296, ...,\n",
       "         0.00446714422923003, 0.005147470785977267, 0.005407595645910038]],\n",
       "\n",
       "       [[0.00036017288298383077, 0.0023711381463102296,\n",
       "         0.003426644789498959, ..., 0.005147470785977267,\n",
       "         0.005407595645910038, 0.006948335200896431]],\n",
       "\n",
       "       [[0.0023711381463102296, 0.003426644789498959,\n",
       "         0.0038968704978389612, ..., 0.005407595645910038,\n",
       "         0.006948335200896431, 0.006798263166319835]],\n",
       "\n",
       "       ..., \n",
       "       [[0.8712682087401953, 0.8015547462782134, 0.7495647910997278, ...,\n",
       "         0.7384844725468224, 0.7311459500560268, 0.7707999839923162]],\n",
       "\n",
       "       [[0.8015547462782134, 0.7495647910997278, 0.7453327597246678, ...,\n",
       "         0.7311459500560268, 0.7707999839923162, 0.7708450056026892]],\n",
       "\n",
       "       [[0.7495647910997278, 0.7453327597246678, 0.779143989114775, ...,\n",
       "         0.7707999839923162, 0.7708450056026892, 0.8190331359052344]]], dtype=object)"
      ]
     },
     "execution_count": 13,
     "metadata": {},
     "output_type": "execute_result"
    }
   ],
   "source": [
    "x"
   ]
  },
  {
   "cell_type": "markdown",
   "metadata": {},
   "source": [
    "### Q.3 Create the model containing LSTM layers (20 pts)\n",
    "----\n",
    "Input shape of first 'LSTM' layer : (1, window_size)<br>\n",
    "Output  of final 'Dense' layer : 1"
   ]
  },
  {
   "cell_type": "code",
   "execution_count": 14,
   "metadata": {
    "scrolled": false
   },
   "outputs": [
    {
     "name": "stdout",
     "output_type": "stream",
     "text": [
      "2015 504\n"
     ]
    }
   ],
   "source": [
    "train, test = train_test_split(amazon_,test_size=0.2)\n",
    "print (len(train), len(test))"
   ]
  },
  {
   "cell_type": "code",
   "execution_count": 30,
   "metadata": {
    "scrolled": true
   },
   "outputs": [
    {
     "name": "stderr",
     "output_type": "stream",
     "text": [
      "/usr/local/Anaconda3-5.0.0-Linux-x86_64/envs/ADS/lib/python3.5/site-packages/ipykernel_launcher.py:14: UserWarning: The `input_dim` and `input_length` arguments in recurrent layers are deprecated. Use `input_shape` instead.\n",
      "  \n",
      "/usr/local/Anaconda3-5.0.0-Linux-x86_64/envs/ADS/lib/python3.5/site-packages/ipykernel_launcher.py:14: UserWarning: Update your `LSTM` call to the Keras 2 API: `LSTM(return_sequences=True, units=50, input_shape=(None, 1))`\n",
      "  \n"
     ]
    },
    {
     "name": "stdout",
     "output_type": "stream",
     "text": [
      "_________________________________________________________________\n",
      "Layer (type)                 Output Shape              Param #   \n",
      "=================================================================\n",
      "lstm_8 (LSTM)                (None, None, 50)          10400     \n",
      "_________________________________________________________________\n",
      "dropout_8 (Dropout)          (None, None, 50)          0         \n",
      "_________________________________________________________________\n",
      "dense_8 (Dense)              (None, None, 1)           51        \n",
      "=================================================================\n",
      "Total params: 10,451\n",
      "Trainable params: 10,451\n",
      "Non-trainable params: 0\n",
      "_________________________________________________________________\n",
      "None\n"
     ]
    }
   ],
   "source": [
    "def lstm_model(x, window_size):\n",
    "    \"\"\"\n",
    "    Creates the model which will be used to forecast next day's stock price based on previous values as inputs\n",
    "    Parameters:\n",
    "        x : Feature inputs\n",
    "        window_size : Number of data points to be used to predict/forecast next data point\n",
    "    \n",
    "    Returns:\n",
    "        model : Model architecture created using Keras\n",
    "    \"\"\"\n",
    "    ### YOUR CODE HERE ###\n",
    "    model = Sequential()\n",
    "    \n",
    "    model.add(LSTM(output_dim=50, input_shape=(1, 22), return_sequences=True,input_dim=1))\n",
    "    model.add(Dropout(0.2))\n",
    "    \n",
    "    model.add(Dense(units=1))\n",
    "\n",
    "    # Compile, fit, and generate scores and predicted probabilities.\n",
    "    # model.compile(loss='mse', optimizer='adam', metrics=['mse'])\n",
    "\n",
    "    #model.fit(data, labels, epochs=20, batch_size=100)\n",
    "    #model.fit(x, y, epochs=20, batch_size=200, verbose=2)\n",
    "    #pred = model.predict(x)\n",
    "    print (model.summary())\n",
    "    return model\n",
    "\n",
    "model = lstm_model(x, window_size)"
   ]
  },
  {
   "cell_type": "markdown",
   "metadata": {},
   "source": [
    "### Q.4 Compile the model by specifying optimizer, loss metrics and train the network by specifying batch_size and epochs (10 pts)\n",
    "\n",
    "Play around with the hypar-parameters and **discuss** what changes caused the mean-squared error go up or down"
   ]
  },
  {
   "cell_type": "code",
   "execution_count": 16,
   "metadata": {
    "scrolled": true
   },
   "outputs": [
    {
     "name": "stderr",
     "output_type": "stream",
     "text": [
      "/usr/local/Anaconda3-5.0.0-Linux-x86_64/envs/ADS/lib/python3.5/site-packages/ipykernel_launcher.py:14: UserWarning: Update your `LSTM` call to the Keras 2 API: `LSTM(return_sequences=True, units=50, input_shape=(1, 22))`\n",
      "  \n"
     ]
    },
    {
     "name": "stdout",
     "output_type": "stream",
     "text": [
      "_________________________________________________________________\n",
      "Layer (type)                 Output Shape              Param #   \n",
      "=================================================================\n",
      "lstm_2 (LSTM)                (None, 1, 50)             14600     \n",
      "_________________________________________________________________\n",
      "dropout_2 (Dropout)          (None, 1, 50)             0         \n",
      "_________________________________________________________________\n",
      "dense_2 (Dense)              (None, 1, 1)              51        \n",
      "=================================================================\n",
      "Total params: 14,651\n",
      "Trainable params: 14,651\n",
      "Non-trainable params: 0\n",
      "_________________________________________________________________\n",
      "None\n",
      "Epoch 1/5\n",
      " - 2s - loss: 0.0842 - mean_squared_error: 0.0842\n",
      "Epoch 2/5\n",
      " - 0s - loss: 0.0090 - mean_squared_error: 0.0090\n",
      "Epoch 3/5\n",
      " - 0s - loss: 0.0054 - mean_squared_error: 0.0054\n",
      "Epoch 4/5\n",
      " - 0s - loss: 0.0034 - mean_squared_error: 0.0034\n",
      "Epoch 5/5\n",
      " - 0s - loss: 0.0028 - mean_squared_error: 0.0028\n"
     ]
    },
    {
     "data": {
      "text/plain": [
       "<keras.callbacks.History at 0x7f09158dd780>"
      ]
     },
     "execution_count": 16,
     "metadata": {},
     "output_type": "execute_result"
    }
   ],
   "source": [
    "model_1 = lstm_model(x, window_size)\n",
    "#Compile, fit, and generate scores and predicted probabilities.\n",
    "model_1.compile(loss='mse', optimizer='adam', metrics=['mse'])\n",
    "#model.fit(data, labels, epochs, batch_size)\n",
    "model_1.fit(x, y, epochs=5, batch_size=200, verbose=2)"
   ]
  },
  {
   "cell_type": "code",
   "execution_count": 17,
   "metadata": {
    "scrolled": true
   },
   "outputs": [
    {
     "name": "stderr",
     "output_type": "stream",
     "text": [
      "/usr/local/Anaconda3-5.0.0-Linux-x86_64/envs/ADS/lib/python3.5/site-packages/ipykernel_launcher.py:14: UserWarning: Update your `LSTM` call to the Keras 2 API: `LSTM(return_sequences=True, units=50, input_shape=(1, 22))`\n",
      "  \n"
     ]
    },
    {
     "name": "stdout",
     "output_type": "stream",
     "text": [
      "_________________________________________________________________\n",
      "Layer (type)                 Output Shape              Param #   \n",
      "=================================================================\n",
      "lstm_3 (LSTM)                (None, 1, 50)             14600     \n",
      "_________________________________________________________________\n",
      "dropout_3 (Dropout)          (None, 1, 50)             0         \n",
      "_________________________________________________________________\n",
      "dense_3 (Dense)              (None, 1, 1)              51        \n",
      "=================================================================\n",
      "Total params: 14,651\n",
      "Trainable params: 14,651\n",
      "Non-trainable params: 0\n",
      "_________________________________________________________________\n",
      "None\n",
      "Epoch 1/20\n",
      " - 2s - loss: 0.0464 - mean_squared_error: 0.0464\n",
      "Epoch 2/20\n",
      " - 0s - loss: 0.0043 - mean_squared_error: 0.0043\n",
      "Epoch 3/20\n",
      " - 0s - loss: 0.0047 - mean_squared_error: 0.0047\n",
      "Epoch 4/20\n",
      " - 0s - loss: 0.0021 - mean_squared_error: 0.0021\n",
      "Epoch 5/20\n",
      " - 0s - loss: 0.0020 - mean_squared_error: 0.0020\n",
      "Epoch 6/20\n",
      " - 0s - loss: 0.0016 - mean_squared_error: 0.0016\n",
      "Epoch 7/20\n",
      " - 0s - loss: 0.0015 - mean_squared_error: 0.0015\n",
      "Epoch 8/20\n",
      " - 0s - loss: 0.0017 - mean_squared_error: 0.0017\n",
      "Epoch 9/20\n",
      " - 0s - loss: 0.0015 - mean_squared_error: 0.0015\n",
      "Epoch 10/20\n",
      " - 0s - loss: 0.0014 - mean_squared_error: 0.0014\n",
      "Epoch 11/20\n",
      " - 0s - loss: 0.0013 - mean_squared_error: 0.0013\n",
      "Epoch 12/20\n",
      " - 0s - loss: 0.0014 - mean_squared_error: 0.0014\n",
      "Epoch 13/20\n",
      " - 0s - loss: 0.0012 - mean_squared_error: 0.0012\n",
      "Epoch 14/20\n",
      " - 0s - loss: 0.0013 - mean_squared_error: 0.0013\n",
      "Epoch 15/20\n",
      " - 0s - loss: 0.0012 - mean_squared_error: 0.0012\n",
      "Epoch 16/20\n",
      " - 0s - loss: 0.0014 - mean_squared_error: 0.0014\n",
      "Epoch 17/20\n",
      " - 0s - loss: 0.0012 - mean_squared_error: 0.0012\n",
      "Epoch 18/20\n",
      " - 0s - loss: 0.0011 - mean_squared_error: 0.0011\n",
      "Epoch 19/20\n",
      " - 0s - loss: 0.0011 - mean_squared_error: 0.0011\n",
      "Epoch 20/20\n",
      " - 0s - loss: 0.0011 - mean_squared_error: 0.0011\n"
     ]
    },
    {
     "data": {
      "text/plain": [
       "<keras.callbacks.History at 0x7f09128de0f0>"
      ]
     },
     "execution_count": 17,
     "metadata": {},
     "output_type": "execute_result"
    }
   ],
   "source": [
    "model_2 = lstm_model(x, window_size)\n",
    "#Compile, fit, and generate scores and predicted probabilities.\n",
    "model_2.compile(loss='mse', optimizer='adam', metrics=['mse'])\n",
    "\n",
    "#model.fit(data, labels, epochs, batch_size)\n",
    "model_2.fit(x, y, epochs=20, batch_size=200, verbose=2)"
   ]
  },
  {
   "cell_type": "code",
   "execution_count": 18,
   "metadata": {
    "scrolled": false
   },
   "outputs": [
    {
     "name": "stderr",
     "output_type": "stream",
     "text": [
      "/usr/local/Anaconda3-5.0.0-Linux-x86_64/envs/ADS/lib/python3.5/site-packages/ipykernel_launcher.py:14: UserWarning: Update your `LSTM` call to the Keras 2 API: `LSTM(return_sequences=True, units=50, input_shape=(1, 22))`\n",
      "  \n"
     ]
    },
    {
     "name": "stdout",
     "output_type": "stream",
     "text": [
      "_________________________________________________________________\n",
      "Layer (type)                 Output Shape              Param #   \n",
      "=================================================================\n",
      "lstm_4 (LSTM)                (None, 1, 50)             14600     \n",
      "_________________________________________________________________\n",
      "dropout_4 (Dropout)          (None, 1, 50)             0         \n",
      "_________________________________________________________________\n",
      "dense_4 (Dense)              (None, 1, 1)              51        \n",
      "=================================================================\n",
      "Total params: 14,651\n",
      "Trainable params: 14,651\n",
      "Non-trainable params: 0\n",
      "_________________________________________________________________\n",
      "None\n",
      "Epoch 1/22\n",
      " - 2s - loss: 0.0667 - mean_squared_error: 0.0667\n",
      "Epoch 2/22\n",
      " - 0s - loss: 0.0052 - mean_squared_error: 0.0052\n",
      "Epoch 3/22\n",
      " - 0s - loss: 0.0053 - mean_squared_error: 0.0053\n",
      "Epoch 4/22\n",
      " - 0s - loss: 0.0022 - mean_squared_error: 0.0022\n",
      "Epoch 5/22\n",
      " - 0s - loss: 0.0023 - mean_squared_error: 0.0023\n",
      "Epoch 6/22\n",
      " - 0s - loss: 0.0018 - mean_squared_error: 0.0018\n",
      "Epoch 7/22\n",
      " - 0s - loss: 0.0017 - mean_squared_error: 0.0017\n",
      "Epoch 8/22\n",
      " - 0s - loss: 0.0017 - mean_squared_error: 0.0017\n",
      "Epoch 9/22\n",
      " - 0s - loss: 0.0017 - mean_squared_error: 0.0017\n",
      "Epoch 10/22\n",
      " - 0s - loss: 0.0016 - mean_squared_error: 0.0016\n",
      "Epoch 11/22\n",
      " - 0s - loss: 0.0014 - mean_squared_error: 0.0014\n",
      "Epoch 12/22\n",
      " - 0s - loss: 0.0014 - mean_squared_error: 0.0014\n",
      "Epoch 13/22\n",
      " - 0s - loss: 0.0014 - mean_squared_error: 0.0014\n",
      "Epoch 14/22\n",
      " - 0s - loss: 0.0015 - mean_squared_error: 0.0015\n",
      "Epoch 15/22\n",
      " - 0s - loss: 0.0013 - mean_squared_error: 0.0013\n",
      "Epoch 16/22\n",
      " - 0s - loss: 0.0014 - mean_squared_error: 0.0014\n",
      "Epoch 17/22\n",
      " - 0s - loss: 0.0013 - mean_squared_error: 0.0013\n",
      "Epoch 18/22\n",
      " - 0s - loss: 0.0011 - mean_squared_error: 0.0011\n",
      "Epoch 19/22\n",
      " - 0s - loss: 0.0012 - mean_squared_error: 0.0012\n",
      "Epoch 20/22\n",
      " - 0s - loss: 0.0012 - mean_squared_error: 0.0012\n",
      "Epoch 21/22\n",
      " - 0s - loss: 0.0012 - mean_squared_error: 0.0012\n",
      "Epoch 22/22\n",
      " - 0s - loss: 0.0011 - mean_squared_error: 0.0011\n"
     ]
    },
    {
     "data": {
      "text/plain": [
       "<keras.callbacks.History at 0x7f0885fb97f0>"
      ]
     },
     "execution_count": 18,
     "metadata": {},
     "output_type": "execute_result"
    }
   ],
   "source": [
    "model_3 = lstm_model(x, window_size)\n",
    "#Compile, fit, and generate scores and predicted probabilities.\n",
    "model_3.compile(loss='mse', optimizer='adam', metrics=['mse'])\n",
    "\n",
    "#model.fit(data, labels, epochs=20, batch_size=100)\n",
    "model_3.fit(x, y, epochs=22, batch_size=200, verbose=2)\n",
    "\n"
   ]
  },
  {
   "cell_type": "code",
   "execution_count": 19,
   "metadata": {
    "scrolled": false
   },
   "outputs": [
    {
     "name": "stderr",
     "output_type": "stream",
     "text": [
      "/usr/local/Anaconda3-5.0.0-Linux-x86_64/envs/ADS/lib/python3.5/site-packages/ipykernel_launcher.py:14: UserWarning: Update your `LSTM` call to the Keras 2 API: `LSTM(return_sequences=True, units=50, input_shape=(1, 22))`\n",
      "  \n"
     ]
    },
    {
     "name": "stdout",
     "output_type": "stream",
     "text": [
      "_________________________________________________________________\n",
      "Layer (type)                 Output Shape              Param #   \n",
      "=================================================================\n",
      "lstm_5 (LSTM)                (None, 1, 50)             14600     \n",
      "_________________________________________________________________\n",
      "dropout_5 (Dropout)          (None, 1, 50)             0         \n",
      "_________________________________________________________________\n",
      "dense_5 (Dense)              (None, 1, 1)              51        \n",
      "=================================================================\n",
      "Total params: 14,651\n",
      "Trainable params: 14,651\n",
      "Non-trainable params: 0\n",
      "_________________________________________________________________\n",
      "None\n",
      "Epoch 1/20\n",
      " - 2s - loss: 0.0606 - mean_squared_error: 0.0606\n",
      "Epoch 2/20\n",
      " - 0s - loss: 0.0046 - mean_squared_error: 0.0046\n",
      "Epoch 3/20\n",
      " - 0s - loss: 0.0020 - mean_squared_error: 0.0020\n",
      "Epoch 4/20\n",
      " - 0s - loss: 0.0017 - mean_squared_error: 0.0017\n",
      "Epoch 5/20\n",
      " - 0s - loss: 0.0014 - mean_squared_error: 0.0014\n",
      "Epoch 6/20\n",
      " - 0s - loss: 0.0015 - mean_squared_error: 0.0015\n",
      "Epoch 7/20\n",
      " - 0s - loss: 0.0012 - mean_squared_error: 0.0012\n",
      "Epoch 8/20\n",
      " - 0s - loss: 0.0013 - mean_squared_error: 0.0013\n",
      "Epoch 9/20\n",
      " - 0s - loss: 0.0014 - mean_squared_error: 0.0014\n",
      "Epoch 10/20\n",
      " - 0s - loss: 0.0012 - mean_squared_error: 0.0012\n",
      "Epoch 11/20\n",
      " - 0s - loss: 0.0011 - mean_squared_error: 0.0011\n",
      "Epoch 12/20\n",
      " - 0s - loss: 0.0011 - mean_squared_error: 0.0011\n",
      "Epoch 13/20\n",
      " - 0s - loss: 0.0011 - mean_squared_error: 0.0011\n",
      "Epoch 14/20\n",
      " - 0s - loss: 0.0011 - mean_squared_error: 0.0011\n",
      "Epoch 15/20\n",
      " - 0s - loss: 0.0010 - mean_squared_error: 0.0010\n",
      "Epoch 16/20\n",
      " - 0s - loss: 9.8843e-04 - mean_squared_error: 9.8843e-04\n",
      "Epoch 17/20\n",
      " - 0s - loss: 9.3808e-04 - mean_squared_error: 9.3808e-04\n",
      "Epoch 18/20\n",
      " - 0s - loss: 9.2263e-04 - mean_squared_error: 9.2263e-04\n",
      "Epoch 19/20\n",
      " - 0s - loss: 0.0011 - mean_squared_error: 0.0011\n",
      "Epoch 20/20\n",
      " - 0s - loss: 0.0010 - mean_squared_error: 0.0010\n"
     ]
    },
    {
     "data": {
      "text/plain": [
       "<keras.callbacks.History at 0x7f0885614da0>"
      ]
     },
     "execution_count": 19,
     "metadata": {},
     "output_type": "execute_result"
    }
   ],
   "source": [
    "model_4 = lstm_model(x, window_size)\n",
    "#Compile, fit, and generate scores and predicted probabilities.\n",
    "model_4.compile(loss='mse', optimizer='adam', metrics=['mse'])\n",
    "\n",
    "#model.fit(data, labels, epochs=20, batch_size=100)\n",
    "model_4.fit(x, y, epochs=20, batch_size=100, verbose=2)"
   ]
  },
  {
   "cell_type": "code",
   "execution_count": 20,
   "metadata": {
    "scrolled": false
   },
   "outputs": [
    {
     "name": "stderr",
     "output_type": "stream",
     "text": [
      "/usr/local/Anaconda3-5.0.0-Linux-x86_64/envs/ADS/lib/python3.5/site-packages/ipykernel_launcher.py:14: UserWarning: Update your `LSTM` call to the Keras 2 API: `LSTM(return_sequences=True, units=50, input_shape=(1, 22))`\n",
      "  \n"
     ]
    },
    {
     "name": "stdout",
     "output_type": "stream",
     "text": [
      "_________________________________________________________________\n",
      "Layer (type)                 Output Shape              Param #   \n",
      "=================================================================\n",
      "lstm_6 (LSTM)                (None, 1, 50)             14600     \n",
      "_________________________________________________________________\n",
      "dropout_6 (Dropout)          (None, 1, 50)             0         \n",
      "_________________________________________________________________\n",
      "dense_6 (Dense)              (None, 1, 1)              51        \n",
      "=================================================================\n",
      "Total params: 14,651\n",
      "Trainable params: 14,651\n",
      "Non-trainable params: 0\n",
      "_________________________________________________________________\n",
      "None\n",
      "Epoch 1/20\n",
      " - 2s - loss: 0.0498 - mean_squared_error: 0.0498\n",
      "Epoch 2/20\n",
      " - 0s - loss: 0.0182 - mean_squared_error: 0.0182\n",
      "Epoch 3/20\n",
      " - 0s - loss: 0.0039 - mean_squared_error: 0.0039\n",
      "Epoch 4/20\n",
      " - 0s - loss: 0.0029 - mean_squared_error: 0.0029\n",
      "Epoch 5/20\n",
      " - 0s - loss: 0.0055 - mean_squared_error: 0.0055\n",
      "Epoch 6/20\n",
      " - 0s - loss: 0.0039 - mean_squared_error: 0.0039\n",
      "Epoch 7/20\n",
      " - 0s - loss: 0.0021 - mean_squared_error: 0.0021\n",
      "Epoch 8/20\n",
      " - 0s - loss: 0.0015 - mean_squared_error: 0.0015\n",
      "Epoch 9/20\n",
      " - 0s - loss: 0.0018 - mean_squared_error: 0.0018\n",
      "Epoch 10/20\n",
      " - 0s - loss: 0.0017 - mean_squared_error: 0.0017\n",
      "Epoch 11/20\n",
      " - 0s - loss: 0.0016 - mean_squared_error: 0.0016\n",
      "Epoch 12/20\n",
      " - 0s - loss: 0.0012 - mean_squared_error: 0.0012\n",
      "Epoch 13/20\n",
      " - 0s - loss: 0.0014 - mean_squared_error: 0.0014\n",
      "Epoch 14/20\n",
      " - 0s - loss: 0.0013 - mean_squared_error: 0.0013\n",
      "Epoch 15/20\n",
      " - 0s - loss: 0.0015 - mean_squared_error: 0.0015\n",
      "Epoch 16/20\n",
      " - 0s - loss: 0.0012 - mean_squared_error: 0.0012\n",
      "Epoch 17/20\n",
      " - 0s - loss: 0.0011 - mean_squared_error: 0.0011\n",
      "Epoch 18/20\n",
      " - 0s - loss: 0.0013 - mean_squared_error: 0.0013\n",
      "Epoch 19/20\n",
      " - 0s - loss: 0.0012 - mean_squared_error: 0.0012\n",
      "Epoch 20/20\n",
      " - 0s - loss: 0.0012 - mean_squared_error: 0.0012\n"
     ]
    },
    {
     "data": {
      "text/plain": [
       "<keras.callbacks.History at 0x7f0884940cf8>"
      ]
     },
     "execution_count": 20,
     "metadata": {},
     "output_type": "execute_result"
    }
   ],
   "source": [
    "model_5 = lstm_model(x, window_size)\n",
    "#Compile, fit, and generate scores and predicted probabilities.\n",
    "model_5.compile(loss='mse', optimizer='adam', metrics=['mse'])\n",
    "\n",
    "#model.fit(data, labels, epochs=20, batch_size=100)\n",
    "model_5.fit(x, y, epochs=20, batch_size=600, verbose=2)"
   ]
  },
  {
   "cell_type": "code",
   "execution_count": 21,
   "metadata": {},
   "outputs": [
    {
     "name": "stderr",
     "output_type": "stream",
     "text": [
      "/usr/local/Anaconda3-5.0.0-Linux-x86_64/envs/ADS/lib/python3.5/site-packages/ipykernel_launcher.py:14: UserWarning: Update your `LSTM` call to the Keras 2 API: `LSTM(return_sequences=True, units=50, input_shape=(1, 22))`\n",
      "  \n"
     ]
    },
    {
     "name": "stdout",
     "output_type": "stream",
     "text": [
      "_________________________________________________________________\n",
      "Layer (type)                 Output Shape              Param #   \n",
      "=================================================================\n",
      "lstm_7 (LSTM)                (None, 1, 50)             14600     \n",
      "_________________________________________________________________\n",
      "dropout_7 (Dropout)          (None, 1, 50)             0         \n",
      "_________________________________________________________________\n",
      "dense_7 (Dense)              (None, 1, 1)              51        \n",
      "=================================================================\n",
      "Total params: 14,651\n",
      "Trainable params: 14,651\n",
      "Non-trainable params: 0\n",
      "_________________________________________________________________\n",
      "None\n",
      "Epoch 1/20\n",
      " - 2s - loss: 0.0150 - mean_squared_error: 0.0150\n",
      "Epoch 2/20\n",
      " - 0s - loss: 0.0016 - mean_squared_error: 0.0016\n",
      "Epoch 3/20\n",
      " - 0s - loss: 0.0014 - mean_squared_error: 0.0014\n",
      "Epoch 4/20\n",
      " - 0s - loss: 0.0012 - mean_squared_error: 0.0012\n",
      "Epoch 5/20\n",
      " - 0s - loss: 0.0011 - mean_squared_error: 0.0011\n",
      "Epoch 6/20\n",
      " - 0s - loss: 0.0011 - mean_squared_error: 0.0011\n",
      "Epoch 7/20\n",
      " - 0s - loss: 0.0010 - mean_squared_error: 0.0010\n",
      "Epoch 8/20\n",
      " - 0s - loss: 8.2130e-04 - mean_squared_error: 8.2130e-04\n",
      "Epoch 9/20\n",
      " - 0s - loss: 9.7126e-04 - mean_squared_error: 9.7126e-04\n",
      "Epoch 10/20\n",
      " - 0s - loss: 7.9432e-04 - mean_squared_error: 7.9432e-04\n",
      "Epoch 11/20\n",
      " - 0s - loss: 7.6240e-04 - mean_squared_error: 7.6240e-04\n",
      "Epoch 12/20\n",
      " - 0s - loss: 8.4088e-04 - mean_squared_error: 8.4088e-04\n",
      "Epoch 13/20\n",
      " - 0s - loss: 7.1653e-04 - mean_squared_error: 7.1653e-04\n",
      "Epoch 14/20\n",
      " - 0s - loss: 7.7468e-04 - mean_squared_error: 7.7468e-04\n",
      "Epoch 15/20\n",
      " - 0s - loss: 8.8563e-04 - mean_squared_error: 8.8563e-04\n",
      "Epoch 16/20\n",
      " - 0s - loss: 7.6096e-04 - mean_squared_error: 7.6096e-04\n",
      "Epoch 17/20\n",
      " - 0s - loss: 7.1642e-04 - mean_squared_error: 7.1642e-04\n",
      "Epoch 18/20\n",
      " - 0s - loss: 6.3475e-04 - mean_squared_error: 6.3475e-04\n",
      "Epoch 19/20\n",
      " - 0s - loss: 6.3138e-04 - mean_squared_error: 6.3138e-04\n",
      "Epoch 20/20\n",
      " - 0s - loss: 6.8127e-04 - mean_squared_error: 6.8127e-04\n"
     ]
    },
    {
     "data": {
      "text/plain": [
       "<keras.callbacks.History at 0x7f086fe55cf8>"
      ]
     },
     "execution_count": 21,
     "metadata": {},
     "output_type": "execute_result"
    }
   ],
   "source": [
    "model_6 = lstm_model(x, window_size)\n",
    "#Compile, fit, and generate scores and predicted probabilities.\n",
    "model_6.compile(loss='mse', optimizer='adam', metrics=['mse'])\n",
    "\n",
    "#model.fit(data, labels, epochs=20, batch_size=100)\n",
    "model_6.fit(x, y, epochs=20, batch_size=40, verbose=2)"
   ]
  },
  {
   "cell_type": "markdown",
   "metadata": {},
   "source": [
    "**A epoch is an iteration over the entrie x and y providee. Batch size it the number of samples per gradient updated. When I increase the epochs, MSE increases, but when it reaches 20, the mse start to decrease fast. When I keeps the epochs the same and increase the batch size, the mse decrease at first and then, when the batch_size is high enough (such as 600), mse increases and stable at some point. When I use lower batch_size, the mse descrease.**  However, when both the parameters are high, the model might be overfitting."
   ]
  },
  {
   "cell_type": "markdown",
   "metadata": {},
   "source": [
    "### Q.5 Get the predictions and visualize the results (5 pts)\n",
    "Helper functions will do the needful, you just need to make sure the model is trained and data is consistent"
   ]
  },
  {
   "cell_type": "code",
   "execution_count": 22,
   "metadata": {
    "scrolled": true
   },
   "outputs": [
    {
     "data": {
      "text/html": [
       "<div>\n",
       "<style scoped>\n",
       "    .dataframe tbody tr th:only-of-type {\n",
       "        vertical-align: middle;\n",
       "    }\n",
       "\n",
       "    .dataframe tbody tr th {\n",
       "        vertical-align: top;\n",
       "    }\n",
       "\n",
       "    .dataframe thead th {\n",
       "        text-align: right;\n",
       "    }\n",
       "</style>\n",
       "<table border=\"1\" class=\"dataframe\">\n",
       "  <thead>\n",
       "    <tr style=\"text-align: right;\">\n",
       "      <th></th>\n",
       "      <th>date</th>\n",
       "      <th>close</th>\n",
       "      <th>volume</th>\n",
       "      <th>open</th>\n",
       "      <th>high</th>\n",
       "      <th>low</th>\n",
       "    </tr>\n",
       "  </thead>\n",
       "  <tbody>\n",
       "    <tr>\n",
       "      <th>0</th>\n",
       "      <td>2008-12-01</td>\n",
       "      <td>0.000000</td>\n",
       "      <td>11178700.0</td>\n",
       "      <td>42.00</td>\n",
       "      <td>43.26</td>\n",
       "      <td>40.38</td>\n",
       "    </tr>\n",
       "    <tr>\n",
       "      <th>1</th>\n",
       "      <td>2008-12-02</td>\n",
       "      <td>0.000360</td>\n",
       "      <td>8713657.0</td>\n",
       "      <td>41.39</td>\n",
       "      <td>41.71</td>\n",
       "      <td>38.82</td>\n",
       "    </tr>\n",
       "    <tr>\n",
       "      <th>2</th>\n",
       "      <td>2008-12-03</td>\n",
       "      <td>0.002371</td>\n",
       "      <td>15672860.0</td>\n",
       "      <td>40.16</td>\n",
       "      <td>45.88</td>\n",
       "      <td>40.05</td>\n",
       "    </tr>\n",
       "    <tr>\n",
       "      <th>3</th>\n",
       "      <td>2008-12-04</td>\n",
       "      <td>0.003427</td>\n",
       "      <td>19781350.0</td>\n",
       "      <td>45.94</td>\n",
       "      <td>50.50</td>\n",
       "      <td>45.75</td>\n",
       "    </tr>\n",
       "    <tr>\n",
       "      <th>4</th>\n",
       "      <td>2008-12-05</td>\n",
       "      <td>0.003897</td>\n",
       "      <td>14607480.0</td>\n",
       "      <td>45.89</td>\n",
       "      <td>48.49</td>\n",
       "      <td>43.30</td>\n",
       "    </tr>\n",
       "  </tbody>\n",
       "</table>\n",
       "</div>"
      ],
      "text/plain": [
       "        date     close      volume   open   high    low\n",
       "0 2008-12-01  0.000000  11178700.0  42.00  43.26  40.38\n",
       "1 2008-12-02  0.000360   8713657.0  41.39  41.71  38.82\n",
       "2 2008-12-03  0.002371  15672860.0  40.16  45.88  40.05\n",
       "3 2008-12-04  0.003427  19781350.0  45.94  50.50  45.75\n",
       "4 2008-12-05  0.003897  14607480.0  45.89  48.49  43.30"
      ]
     },
     "execution_count": 22,
     "metadata": {},
     "output_type": "execute_result"
    }
   ],
   "source": [
    "amzn.head()"
   ]
  },
  {
   "cell_type": "code",
   "execution_count": 23,
   "metadata": {},
   "outputs": [
    {
     "data": {
      "text/plain": [
       "(2496, 1, 22)"
      ]
     },
     "execution_count": 23,
     "metadata": {},
     "output_type": "execute_result"
    }
   ],
   "source": [
    "x.shape"
   ]
  },
  {
   "cell_type": "code",
   "execution_count": 24,
   "metadata": {
    "scrolled": false
   },
   "outputs": [],
   "source": [
    "def predict(amzn, x, window_size, batch_size=8):\n",
    "    \"\"\"\n",
    "    Uses trained model to predict on the input set, scales data back to original distribution\n",
    "    and returns the original dataframe with an added column containing predictions\n",
    "    \n",
    "    Parameters:\n",
    "        amzn : Original dataframe of Amazon stock prices\n",
    "        x : Feature inputs used to train the model\n",
    "        batch_size : Batch_size used for training the model\n",
    "    \n",
    "    Returns:\n",
    "        amzn : Amazon stock price dataframe with an added column containing predictions made by the trained model\n",
    "    \"\"\"\n",
    "    preds = []\n",
    "    amzn.reset_index(drop=True, inplace=True)\n",
    "    # Iterating over training samples\n",
    "    for i in range(len(x)):\n",
    "        data = np.reshape(x[i], (1, 1, 22))\n",
    "        # Predicting from the trained model\n",
    "        preds.append(model_4.predict(x=data,batch_size=22)[0][0][0])\n",
    "\n",
    "    predictions = np.copy(scaler.inverse_transform(np.array(preds).reshape(-1, 1)))\n",
    "    amzn.loc[window_size+1:,'Predictions'] = np.copy(predictions)\n",
    "    amzn.loc[:,'close'] = np.copy(scaler.inverse_transform(amzn.loc[:,'close'].values.reshape(-1, 1)))\n",
    "    return amzn\n",
    "\n",
    "am = predict(amzn, x, window_size)"
   ]
  },
  {
   "cell_type": "code",
   "execution_count": 25,
   "metadata": {},
   "outputs": [
    {
     "data": {
      "text/html": [
       "<div>\n",
       "<style scoped>\n",
       "    .dataframe tbody tr th:only-of-type {\n",
       "        vertical-align: middle;\n",
       "    }\n",
       "\n",
       "    .dataframe tbody tr th {\n",
       "        vertical-align: top;\n",
       "    }\n",
       "\n",
       "    .dataframe thead th {\n",
       "        text-align: right;\n",
       "    }\n",
       "</style>\n",
       "<table border=\"1\" class=\"dataframe\">\n",
       "  <thead>\n",
       "    <tr style=\"text-align: right;\">\n",
       "      <th></th>\n",
       "      <th>date</th>\n",
       "      <th>close</th>\n",
       "      <th>volume</th>\n",
       "      <th>open</th>\n",
       "      <th>high</th>\n",
       "      <th>low</th>\n",
       "      <th>Predictions</th>\n",
       "    </tr>\n",
       "  </thead>\n",
       "  <tbody>\n",
       "    <tr>\n",
       "      <th>0</th>\n",
       "      <td>2008-12-01</td>\n",
       "      <td>40.47</td>\n",
       "      <td>11178700.0</td>\n",
       "      <td>42.00</td>\n",
       "      <td>43.26</td>\n",
       "      <td>40.38</td>\n",
       "      <td>NaN</td>\n",
       "    </tr>\n",
       "    <tr>\n",
       "      <th>1</th>\n",
       "      <td>2008-12-02</td>\n",
       "      <td>41.19</td>\n",
       "      <td>8713657.0</td>\n",
       "      <td>41.39</td>\n",
       "      <td>41.71</td>\n",
       "      <td>38.82</td>\n",
       "      <td>NaN</td>\n",
       "    </tr>\n",
       "    <tr>\n",
       "      <th>2</th>\n",
       "      <td>2008-12-03</td>\n",
       "      <td>45.21</td>\n",
       "      <td>15672860.0</td>\n",
       "      <td>40.16</td>\n",
       "      <td>45.88</td>\n",
       "      <td>40.05</td>\n",
       "      <td>NaN</td>\n",
       "    </tr>\n",
       "    <tr>\n",
       "      <th>3</th>\n",
       "      <td>2008-12-04</td>\n",
       "      <td>47.32</td>\n",
       "      <td>19781350.0</td>\n",
       "      <td>45.94</td>\n",
       "      <td>50.50</td>\n",
       "      <td>45.75</td>\n",
       "      <td>NaN</td>\n",
       "    </tr>\n",
       "    <tr>\n",
       "      <th>4</th>\n",
       "      <td>2008-12-05</td>\n",
       "      <td>48.26</td>\n",
       "      <td>14607480.0</td>\n",
       "      <td>45.89</td>\n",
       "      <td>48.49</td>\n",
       "      <td>43.30</td>\n",
       "      <td>NaN</td>\n",
       "    </tr>\n",
       "  </tbody>\n",
       "</table>\n",
       "</div>"
      ],
      "text/plain": [
       "        date  close      volume   open   high    low  Predictions\n",
       "0 2008-12-01  40.47  11178700.0  42.00  43.26  40.38          NaN\n",
       "1 2008-12-02  41.19   8713657.0  41.39  41.71  38.82          NaN\n",
       "2 2008-12-03  45.21  15672860.0  40.16  45.88  40.05          NaN\n",
       "3 2008-12-04  47.32  19781350.0  45.94  50.50  45.75          NaN\n",
       "4 2008-12-05  48.26  14607480.0  45.89  48.49  43.30          NaN"
      ]
     },
     "execution_count": 25,
     "metadata": {},
     "output_type": "execute_result"
    }
   ],
   "source": [
    "amzn.head()"
   ]
  },
  {
   "cell_type": "code",
   "execution_count": 26,
   "metadata": {
    "scrolled": false
   },
   "outputs": [
    {
     "data": {
      "image/png": "[encoded data removed]",
      "text/plain": [
       "<matplotlib.figure.Figure at 0x7f086f6393c8>"
      ]
     },
     "metadata": {
      "needs_background": "light"
     },
     "output_type": "display_data"
    }
   ],
   "source": [
    "def plot_predictions(amzn, title, idx1=0, idx2=len(x)):\n",
    "    \"\"\"\n",
    "    Plots the predictions on top of original stock price history\n",
    "    \n",
    "    Parameters:\n",
    "        amzn : Original dataframe of Amazon stock prices\n",
    "        title : Title of the plot\n",
    "    \n",
    "    Returns:\n",
    "        amzn : Amazon stock price dataframe with an added column containing predictions made by the trained model\n",
    "    \"\"\"\n",
    "    plt.figure(figsize=(14, 10))\n",
    "    plt.plot(amzn.date[idx1:idx2], amzn.Predictions[idx1:idx2], label='Predictions', color='red')\n",
    "    plt.plot(amzn.date[idx1:idx2], amzn.close[idx1:idx2], label='actual', color='green')\n",
    "    plt.xlabel(\"Year\")\n",
    "    plt.ylabel(\"Price\")\n",
    "    plt.title(title)\n",
    "    plt.legend()\n",
    "    plt.show()\n",
    "    \n",
    "# The plot should look something like this    \n",
    "title = \"Complete Prediction\"\n",
    "plot_predictions(amzn, title)"
   ]
  },
  {
   "cell_type": "markdown",
   "metadata": {},
   "source": [
    "Figure 3. The predict and actual price of amazon stock over 10 year period"
   ]
  },
  {
   "cell_type": "code",
   "execution_count": 27,
   "metadata": {},
   "outputs": [
    {
     "data": {
      "image/png": "[encoded data removed]",
      "text/plain": [
       "<matplotlib.figure.Figure at 0x7f088566e4a8>"
      ]
     },
     "metadata": {
      "needs_background": "light"
     },
     "output_type": "display_data"
    }
   ],
   "source": [
    "# Same function can be used to zoom in on a particular sub-space of predictions\n",
    "title = \"Zooming in a subset of Prediction space\"\n",
    "plot_predictions(amzn, title, 450, 600)"
   ]
  },
  {
   "cell_type": "markdown",
   "metadata": {},
   "source": [
    "Figure 4. The zoom in to a subset of amazon stock prediction."
   ]
  }
 ],
 "metadata": {
  "kernelspec": {
   "display_name": "ADS",
   "language": "python",
   "name": "ads"
  },
  "language_info": {
   "codemirror_mode": {
    "name": "ipython",
    "version": 3
   },
   "file_extension": ".py",
   "mimetype": "text/x-python",
   "name": "python",
   "nbconvert_exporter": "python",
   "pygments_lexer": "ipython3",
   "version": "3.5.0"
  }
 },
 "nbformat": 4,
 "nbformat_minor": 2
}
